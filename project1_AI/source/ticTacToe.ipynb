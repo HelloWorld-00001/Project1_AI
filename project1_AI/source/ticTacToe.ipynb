{
 "cells": [
  {
   "cell_type": "code",
   "execution_count": null,
   "metadata": {},
   "outputs": [],
   "source": [
    "move = [(0,1),(0,-1),(1,0),(-1,0),(1,1),(1,-1),(-1,1),(-1,-1)]\n",
    "\n",
    "def is_valid(map, x, y):\n",
    "    if x < map.shape[0]:\n",
    "        if y < map.shape[1]:\n",
    "            if map[x][y] == 1:\n",
    "                return 0\n",
    "        else:\n",
    "            return 0\n",
    "    else:\n",
    "        return 0\n",
    "    return 1\n"
   ]
  },
  {
   "cell_type": "code",
   "execution_count": 7,
   "metadata": {},
   "outputs": [
    {
     "name": "stdout",
     "output_type": "stream",
     "text": [
      "['x' 'x' 'x']\n",
      "ok\n",
      "ok\n"
     ]
    }
   ],
   "source": [
    "import numpy as np\n",
    "\n",
    "a = np.array([[\"x\", \"x\", \"x\"], [\"x\", \"x\", \"y\"], [\"x\", \"x\", \"x\"]])\n",
    "print(a[:,1])\n",
    "\n",
    "for i in range(3):\n",
    "    if all(x  == \"x\" for x in a[:, i]):\n",
    "        print(\"ok\")"
   ]
  },
  {
   "cell_type": "code",
   "execution_count": 9,
   "metadata": {},
   "outputs": [
    {
     "name": "stdout",
     "output_type": "stream",
     "text": [
      "[['x' 'x' 'x']\n",
      " ['x' 'a' 'y']\n",
      " ['x' 'x' 'x']]\n",
      "[['x' 'x' 'x']\n",
      " ['x' 'x' 'y']\n",
      " ['x' 'x' 'x']]\n"
     ]
    }
   ],
   "source": [
    "import copy\n",
    "\n",
    "c = copy.deepcopy(a)\n",
    "c[1][1] = \"aks\"\n",
    "print(c)\n",
    "print(a)"
   ]
  },
  {
   "cell_type": "code",
   "execution_count": 1,
   "metadata": {},
   "outputs": [],
   "source": [
    "class TicTacToe:\n",
    "    def __init__(self, size):\n",
    "        self.size = size\n",
    "        self.map = np.array([[\"-\" for _ in range(self.size)] for _ in range(self.size)])\n",
    "        self.player_turn = 'X'\n",
    "\n",
    "    def set(self, x, y, type):\n",
    "        if self.map[x][y] == '-':\n",
    "            self.map[x][y] = type\n",
    "            return True\n",
    "        return False\n",
    "        \n",
    "    def draw_board(self):\n",
    "        for i in range(0, 3):\n",
    "            for j in range(0, 3):\n",
    "                print('{}|'.format(self.map[i][j]), end=\" \")\n",
    "            print()\n",
    "        print()\n",
    "        \n",
    "    def is_valid(self, x, y):\n",
    "        if x < self.map.shape[0]:\n",
    "            if y < self.map.shape[1]:\n",
    "                if self.map[x][y] == \"X\" or self.map[x][y] == \"O\":\n",
    "                    return 0\n",
    "            else:\n",
    "                return 0\n",
    "        else:\n",
    "            return 0\n",
    "        return 1\n",
    "\n",
    "    \n",
    "            \n",
    "    #create child state\n",
    "    def make_child(self, type, list_idx_child):\n",
    "        child = copy.deepcopy(self.map);\n",
    "        for i in range(self.size):\n",
    "            for j in range(self.size):\n",
    "                if child[i][j] == \"-\" and (i, j) not in list_idx_child:\n",
    "                    child[i][j] = type\n",
    "                    return child, (i, j)\n",
    "        return None, None\n",
    "    \n",
    "    def make_children(self, type):\n",
    "        list_children = []\n",
    "        list_idx_child = []\n",
    "        while True:\n",
    "            child, l_idx = self.make_child( type, list_idx_child)\n",
    "            if child is None:\n",
    "                break\n",
    "            list_children.append(child)\n",
    "            list_idx_child.append(l_idx)\n",
    "        return list_children\n",
    "\n",
    "    \n",
    "    def is_full(self):\n",
    "                # Is whole board full?\n",
    "        for i in range(self.size):\n",
    "            for j in range(self.size):\n",
    "                # There's an empty field, we continue the game\n",
    "                if (self.map[i][j] == \"-\"):\n",
    "                    return 0\n",
    "        return 1\n",
    "    \n",
    "    def vertical_win(self):\n",
    "        for i in range(self.size):\n",
    "            if (all(x == \"X\" for x in self.map[:,i])):\n",
    "                    return 'X'\n",
    "            elif (all(x == \"O\" for x in self.map[:,i])):\n",
    "                return 'O'\n",
    "        return None  \n",
    "    \n",
    "    def horizontal_win(self):\n",
    "        for i in range(self.size):\n",
    "            if (all(x == \"X\" for x in self.map[i])):\n",
    "                return 'X'\n",
    "            elif (all(x == \"O\" for x in self.map[i])):\n",
    "                return 'O'\n",
    "        return None \n",
    "    \n",
    "    def diagonal_win(self):\n",
    "        for i in range(self.size - 1):\n",
    "            if (self.map[i][i] != self.map[i+1][i + 1]): #\n",
    "                return \"draw\"\n",
    "            return self.map[i][i]\n",
    "        return None\n",
    "    \n",
    "    def second_diagonal_win(self):\n",
    "        for i in range(self.size - 1):\n",
    "            if (self.map[i][self.size - i - 1] != self.map[i + 1][self.size - i - 2]): #\n",
    "                return \"draw\"\n",
    "            return self.map[i][self.size - i - 1]\n",
    "        return None\n",
    "    \n",
    "                   \n",
    "    def is_end(self):\n",
    "        if self.is_full():\n",
    "        # Vertical win\n",
    "            result = self.vertical_win()\n",
    "            if result is not None:\n",
    "                return result\n",
    "\n",
    "            # Horizontal win\n",
    "            result = self.horizontal_win()\n",
    "            if result is not None:\n",
    "                return result\n",
    "\n",
    "            # Main diagonal win\n",
    "            result = self.diagonal_win()\n",
    "            if result is not None:\n",
    "                return result\n",
    "                    \n",
    "\n",
    "            # Second diagonal win\n",
    "            result = self.second_diagonal_win()\n",
    "            if result is not None:\n",
    "                return result\n",
    "\n",
    "        return None"
   ]
  },
  {
   "cell_type": "code",
   "execution_count": 4,
   "metadata": {},
   "outputs": [
    {
     "name": "stdout",
     "output_type": "stream",
     "text": [
      "[['O' 'X' '-']\n",
      " ['-' '-' '-']\n",
      " ['-' '-' '-']]\n",
      "[['-' 'X' 'O']\n",
      " ['-' '-' '-']\n",
      " ['-' '-' '-']]\n",
      "[['-' 'X' '-']\n",
      " ['O' '-' '-']\n",
      " ['-' '-' '-']]\n",
      "[['-' 'X' '-']\n",
      " ['-' 'O' '-']\n",
      " ['-' '-' '-']]\n",
      "[['-' 'X' '-']\n",
      " ['-' '-' 'O']\n",
      " ['-' '-' '-']]\n",
      "[['-' 'X' '-']\n",
      " ['-' '-' '-']\n",
      " ['O' '-' '-']]\n",
      "[['-' 'X' '-']\n",
      " ['-' '-' '-']\n",
      " ['-' 'O' '-']]\n",
      "[['-' 'X' '-']\n",
      " ['-' '-' '-']\n",
      " ['-' '-' 'O']]\n"
     ]
    }
   ],
   "source": [
    "import numpy as np\n",
    "import copy\n",
    "a = TicTacToe(3)\n",
    "a.set(0, 1, \"X\")\n",
    "children = np.array(a.make_children(\"O\"))\n",
    "for i in range(children.shape[0]):\n",
    "    print(children[i])"
   ]
  }
 ],
 "metadata": {
  "kernelspec": {
   "display_name": "Python 3.10.5 64-bit",
   "language": "python",
   "name": "python3"
  },
  "language_info": {
   "codemirror_mode": {
    "name": "ipython",
    "version": 3
   },
   "file_extension": ".py",
   "mimetype": "text/x-python",
   "name": "python",
   "nbconvert_exporter": "python",
   "pygments_lexer": "ipython3",
   "version": "3.10.5"
  },
  "orig_nbformat": 4,
  "vscode": {
   "interpreter": {
    "hash": "369f2c481f4da34e4445cda3fffd2e751bd1c4d706f27375911949ba6bb62e1c"
   }
  }
 },
 "nbformat": 4,
 "nbformat_minor": 2
}

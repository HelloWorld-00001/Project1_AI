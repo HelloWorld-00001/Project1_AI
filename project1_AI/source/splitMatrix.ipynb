{
 "cells": [
  {
   "cell_type": "code",
   "execution_count": 1,
   "metadata": {},
   "outputs": [
    {
     "name": "stdout",
     "output_type": "stream",
     "text": [
      "[[1 0 0 0 2]\n",
      " [0 0 0 0 0]\n",
      " [3 0 4 0 5]\n",
      " [0 0 0 0 0]\n",
      " [6 0 0 0 7]]\n",
      "[[1 0 0]\n",
      " [0 0 0]\n",
      " [3 0 4]]\n",
      "[[0 0 0]\n",
      " [0 0 0]\n",
      " [0 4 0]]\n",
      "[[0 0 2]\n",
      " [0 0 0]\n",
      " [4 0 5]]\n",
      "[[0 0 0]\n",
      " [3 0 4]\n",
      " [0 0 0]]\n",
      "[[0 0 0]\n",
      " [0 4 0]\n",
      " [0 0 0]]\n",
      "[[0 0 0]\n",
      " [4 0 5]\n",
      " [0 0 0]]\n",
      "[[3 0 4]\n",
      " [0 0 0]\n",
      " [6 0 0]]\n",
      "[[0 4 0]\n",
      " [0 0 0]\n",
      " [0 0 0]]\n",
      "[[4 0 5]\n",
      " [0 0 0]\n",
      " [0 0 7]]\n",
      "9\n"
     ]
    }
   ],
   "source": [
    "import numpy as np\n",
    "\n",
    "a = np.zeros((5, 5), dtype = int)\n",
    "a[0][0] = 1\n",
    "a[4][4] = 7\n",
    "a[0][4] = 2\n",
    "a[2][0] = 3\n",
    "a[2][2] = 4\n",
    "a[2][4] = 5\n",
    "a[4][0] = 6\n",
    "print(a)\n",
    "\n",
    "sub_matrix = np.zeros((3, 3), dtype = int)\n",
    "#0->2\n",
    "count = 0\n",
    "n = a.shape[1] -  2\n",
    "for k in range(n):\n",
    "    for i in range(n):\n",
    "        for j in range(n):\n",
    "            sub_matrix[j] = a[j+k, i:i+3]\n",
    "        print(sub_matrix)\n",
    "        count += 1\n",
    "\n",
    "print(count)"
   ]
  },
  {
   "cell_type": "code",
   "execution_count": 31,
   "metadata": {},
   "outputs": [
    {
     "name": "stdout",
     "output_type": "stream",
     "text": [
      "-| -| -| \n",
      "-| -| -| \n",
      "-| X| -| \n",
      "\n",
      "O| -| -| \n",
      "-| -| -| \n",
      "-| X| -| \n",
      "\n"
     ]
    }
   ],
   "source": [
    "import abC as ab\n",
    "import numpy as np\n",
    "import datetime as dt\n",
    "\n",
    "LIMIT_TIME = 5\n",
    "\n",
    "a = ab.TicTacToe(3)\n",
    "a.set(2, 1, \"X\")\n",
    "a.draw_board()\n",
    "b = ab.AlphaBeta(a)\n",
    "\n",
    "def limitAlphaBeta(a, b):\n",
    "    start_time = dt.datetime.now()\n",
    "    end_time = start_time + dt.timedelta(0, LIMIT_TIME)\n",
    "    depth = 1\n",
    "    best = None\n",
    "    while True:\n",
    "        current_time = dt.datetime.now()\n",
    "        if current_time > end_time:\n",
    "            break;\n",
    "        best = b.alpha_beta_search(a, \"O\", current_time, end_time - current_time)\n",
    "        \n",
    "        depth += 1\n",
    "    return best\n",
    "\n",
    "r = limitAlphaBeta(a, b)\n",
    "r.draw_board()\n",
    "#x = b.alpha_beta_search(a, \"O\")\n",
    "#x.draw_board()\n",
    "\n",
    "\n",
    "\n"
   ]
  },
  {
   "cell_type": "code",
   "execution_count": 20,
   "metadata": {},
   "outputs": [
    {
     "name": "stdout",
     "output_type": "stream",
     "text": [
      "-| -| -| -| -| \n",
      "-| -| X| -| -| \n",
      "-| -| -| X| -| \n",
      "-| -| -| -| X| \n",
      "-| -| -| -| -| \n",
      "\n"
     ]
    },
    {
     "ename": "AttributeError",
     "evalue": "'TicTacToe' object has no attribute 'get_last_move'",
     "output_type": "error",
     "traceback": [
      "\u001b[1;31m---------------------------------------------------------------------------\u001b[0m",
      "\u001b[1;31mAttributeError\u001b[0m                            Traceback (most recent call last)",
      "\u001b[1;32md:\\OneDrive - VNU-HCMUS\\Courses\\Ki3\\Artificial_Intelligence\\AI_search_project1\\project1_AI\\source\\splitMatrix.ipynb Cell 4'\u001b[0m in \u001b[0;36m<cell line: 6>\u001b[1;34m()\u001b[0m\n\u001b[0;32m      <a href='vscode-notebook-cell:/d%3A/OneDrive%20-%20VNU-HCMUS/Courses/Ki3/Artificial_Intelligence/AI_search_project1/project1_AI/source/splitMatrix.ipynb#ch0000003?line=3'>4</a>\u001b[0m a\u001b[39m.\u001b[39mset(\u001b[39m3\u001b[39m, \u001b[39m4\u001b[39m, \u001b[39m\"\u001b[39m\u001b[39mX\u001b[39m\u001b[39m\"\u001b[39m)\n\u001b[0;32m      <a href='vscode-notebook-cell:/d%3A/OneDrive%20-%20VNU-HCMUS/Courses/Ki3/Artificial_Intelligence/AI_search_project1/project1_AI/source/splitMatrix.ipynb#ch0000003?line=4'>5</a>\u001b[0m a\u001b[39m.\u001b[39mdraw_board()\n\u001b[1;32m----> <a href='vscode-notebook-cell:/d%3A/OneDrive%20-%20VNU-HCMUS/Courses/Ki3/Artificial_Intelligence/AI_search_project1/project1_AI/source/splitMatrix.ipynb#ch0000003?line=5'>6</a>\u001b[0m \u001b[39mprint\u001b[39m(a\u001b[39m.\u001b[39;49mget_last_move())\n",
      "\u001b[1;31mAttributeError\u001b[0m: 'TicTacToe' object has no attribute 'get_last_move'"
     ]
    }
   ],
   "source": [
    "a = TicTacToe(5)\n",
    "a.set(1, 2, \"X\")\n",
    "a.set(2, 3, \"X\")\n",
    "a.set(3, 4, \"X\")\n",
    "a.draw_board()\n",
    "print(a.get_last_move())\n"
   ]
  },
  {
   "cell_type": "code",
   "execution_count": 33,
   "metadata": {},
   "outputs": [
    {
     "name": "stdout",
     "output_type": "stream",
     "text": [
      "4\n",
      "7\n",
      "2\n",
      "0\n",
      "9\n",
      "2\n",
      "3\n",
      "6\n",
      "1\n",
      "7\n",
      "1\n",
      "0\n",
      "4\n",
      "4\n",
      "8\n",
      "7\n",
      "8\n",
      "3\n",
      "8\n",
      "6\n",
      "8\n",
      "1\n",
      "7\n",
      "6\n",
      "4\n",
      "7\n",
      "2\n",
      "8\n",
      "2\n",
      "3\n"
     ]
    }
   ],
   "source": [
    "import random as rd\n",
    "\n",
    "for i in range(30):\n",
    "    print(rd.randint(0, 9))"
   ]
  },
  {
   "cell_type": "markdown",
   "metadata": {},
   "source": [
    "kar ngy trang tiusn dungj lowns nhất thế giới là ả ma toi ngu ngu ngu hahahahha\n",
    "**Ả tong teo**\n",
    "# hibara\n",
    "$a^2 + b + c $"
   ]
  },
  {
   "cell_type": "markdown",
   "metadata": {},
   "source": []
  }
 ],
 "metadata": {
  "kernelspec": {
   "display_name": "Python 3.10.5 64-bit",
   "language": "python",
   "name": "python3"
  },
  "language_info": {
   "codemirror_mode": {
    "name": "ipython",
    "version": 3
   },
   "file_extension": ".py",
   "mimetype": "text/x-python",
   "name": "python",
   "nbconvert_exporter": "python",
   "pygments_lexer": "ipython3",
   "version": "3.10.5"
  },
  "orig_nbformat": 4,
  "vscode": {
   "interpreter": {
    "hash": "369f2c481f4da34e4445cda3fffd2e751bd1c4d706f27375911949ba6bb62e1c"
   }
  }
 },
 "nbformat": 4,
 "nbformat_minor": 2
}
